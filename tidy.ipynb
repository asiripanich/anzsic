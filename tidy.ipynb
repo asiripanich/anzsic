{
 "cells": [
  {
   "cell_type": "code",
   "execution_count": null,
   "metadata": {},
   "outputs": [],
   "source": [
    "import polars as pl\n",
    "import polars.selectors as cs"
   ]
  },
  {
   "cell_type": "markdown",
   "metadata": {},
   "source": [
    "## Create `anzsic_2006.csv`"
   ]
  },
  {
   "cell_type": "code",
   "execution_count": null,
   "metadata": {},
   "outputs": [],
   "source": [
    "def read_anzsic_sheet(sheet_name, prefix):\n",
    "    df = (\n",
    "        pl.read_excel(\n",
    "            r\"data/1292.0.55.002_anzsic 2006 - codes and titles.xls\",\n",
    "            sheet_name=sheet_name,\n",
    "            drop_empty_rows=True,\n",
    "        )\n",
    "        .drop(cs.by_index(0))\n",
    "        .select(cs.by_index(-2, -1))\n",
    "        .with_columns(pl.all().fill_null(strategy=\"forward\"))\n",
    "        .drop_nulls()\n",
    "    )\n",
    "    df.columns = [f\"{prefix}_code\", f\"{prefix}_title\"]\n",
    "    df = df.unique(f\"{prefix}_title\", keep=\"first\", maintain_order=True).sort(\n",
    "        f\"{prefix}_code\"\n",
    "    )\n",
    "    if prefix != \"division\":\n",
    "        df = df.with_columns(\n",
    "            pl.col(f\"{prefix}_code\").str.replace(r\".$\", \"\").alias(f\"{prefix}_parent\")\n",
    "        )\n",
    "    return df\n",
    "\n",
    "\n",
    "anzsic06 = {\n",
    "    sheet_name: read_anzsic_sheet(sheet_name, prefix)\n",
    "    for sheet_name, prefix in zip(\n",
    "        [\"Divisions\", \"Groups\", \"Classes\"], [\"division\", \"group\", \"class\"]\n",
    "    )\n",
    "}\n",
    "\n",
    "anzsic06"
   ]
  },
  {
   "cell_type": "code",
   "execution_count": null,
   "metadata": {},
   "outputs": [],
   "source": [
    "# Create Subdivisions\n",
    "anzsic06[\"Subdivisions\"] = pl.read_excel(\n",
    "    r\"data/1292.0.55.002_anzsic 2006 - codes and titles.xls\",\n",
    "    sheet_name=\"Subdivisions\",\n",
    "    drop_empty_rows=True,\n",
    ").drop(cs.by_index(0))\n",
    "\n",
    "anzsic06[\"Subdivisions\"] = (\n",
    "    anzsic06[\"Subdivisions\"]\n",
    "    .with_columns(pl.all().fill_null(strategy=\"forward\"))\n",
    "    .drop_nulls()\n",
    ")\n",
    "\n",
    "anzsic06[\"Subdivisions\"].columns = [\n",
    "    \"division_code\",\n",
    "    \"subdivision_code\",\n",
    "    \"subdivision_title\",\n",
    "]\n",
    "\n",
    "anzsic06[\"Subdivisions\"] = (\n",
    "    anzsic06[\"Subdivisions\"]\n",
    "    .unique(\"subdivision_title\")\n",
    "    .sort([\"division_code\", \"subdivision_code\"])\n",
    ")\n",
    "\n",
    "anzsic06[\"Subdivisions\"]"
   ]
  },
  {
   "cell_type": "code",
   "execution_count": null,
   "metadata": {},
   "outputs": [],
   "source": [
    "anzsic06_combined = (\n",
    "    anzsic06[\"Divisions\"]\n",
    "    .join(anzsic06[\"Subdivisions\"], on=\"division_code\", how=\"full\")\n",
    "    .join(\n",
    "        anzsic06[\"Groups\"],\n",
    "        left_on=\"subdivision_code\",\n",
    "        right_on=\"group_parent\",\n",
    "        how=\"full\",\n",
    "    )\n",
    "    .join(\n",
    "        anzsic06[\"Classes\"], left_on=\"group_code\", right_on=\"class_parent\", how=\"full\"\n",
    "    )\n",
    "    .drop(cs.ends_with(\"parent\"), cs.ends_with(\"_right\"))\n",
    ")"
   ]
  },
  {
   "cell_type": "code",
   "execution_count": 22,
   "metadata": {},
   "outputs": [],
   "source": [
    "anzsic06_combined.write_csv(\"anzsic_2006.csv\", quote_style=\"always\")"
   ]
  }
 ],
 "metadata": {
  "kernelspec": {
   "display_name": "anzsic",
   "language": "python",
   "name": "python3"
  },
  "language_info": {
   "codemirror_mode": {
    "name": "ipython",
    "version": 3
   },
   "file_extension": ".py",
   "mimetype": "text/x-python",
   "name": "python",
   "nbconvert_exporter": "python",
   "pygments_lexer": "ipython3",
   "version": "3.12.7"
  }
 },
 "nbformat": 4,
 "nbformat_minor": 2
}
