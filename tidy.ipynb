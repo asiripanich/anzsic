{
 "cells": [
  {
   "cell_type": "code",
   "execution_count": null,
   "metadata": {},
   "outputs": [],
   "source": [
    "import polars as pl\n",
    "import polars.selectors as cs"
   ]
  },
  {
   "cell_type": "markdown",
   "metadata": {},
   "source": [
    "# Create `anzsic_1993.csv`"
   ]
  },
  {
   "cell_type": "code",
   "execution_count": null,
   "metadata": {},
   "outputs": [],
   "source": [
    "anzsic93_raw = (\n",
    "    pl.read_excel(\n",
    "        r\"data/1292.0.55.005_ anzsic 2006 - correspondence tables.xls\",\n",
    "        sheet_name=\"Table 1\",\n",
    "        drop_empty_rows=True,\n",
    "    )\n",
    "    .with_row_index()\n",
    "    .filter(~pl.col(\"index\").is_between(0, 2))\n",
    "    .drop(~cs.by_index(0, 1, 2, 3))\n",
    ")\n",
    "\n",
    "anzsic93_raw.columns = [\"index\", \"parent\", \"code\", \"title\"]"
   ]
  },
  {
   "cell_type": "code",
   "execution_count": null,
   "metadata": {},
   "outputs": [],
   "source": [
    "def tidy_anzsic93(df, name, code_len):\n",
    "    df_final = df.filter(pl.col(\"parent\").str.len_chars() == code_len).drop(\n",
    "        cs.by_index(-1)\n",
    "    )\n",
    "    df_final.columns = [\"index\", \"code\", \"title\"]\n",
    "    df_final = df_final.sort(\"index\").rename(\n",
    "        lambda colname: name[:-1].lower() + \"_\" + colname\n",
    "    )\n",
    "    return df_final\n",
    "\n",
    "\n",
    "anzsic93 = {}\n",
    "\n",
    "for index, name in enumerate([\"Divisions\", \"Subdivisions\", \"Groups\"]):\n",
    "    anzsic93[name] = tidy_anzsic93(anzsic93_raw, name, index + 1)"
   ]
  },
  {
   "cell_type": "code",
   "execution_count": null,
   "metadata": {},
   "outputs": [],
   "source": [
    "# We can infer the relationship between levels using their row index.\n",
    "anzsic93_combined = (\n",
    "    (\n",
    "        anzsic93_raw.filter(~pl.col(\"title\").is_null())\n",
    "        .drop(\"parent\")\n",
    "        .rename(lambda col: \"class_\" + col)\n",
    "    )\n",
    "    .join_asof(\n",
    "        anzsic93[\"Groups\"],\n",
    "        left_on=\"class_index\",\n",
    "        right_on=\"group_index\",\n",
    "        strategy=\"backward\",\n",
    "    )\n",
    "    .join_asof(\n",
    "        anzsic93[\"Subdivisions\"],\n",
    "        left_on=\"group_index\",\n",
    "        right_on=\"subdivision_index\",\n",
    "        strategy=\"backward\",\n",
    "    )\n",
    "    .join_asof(\n",
    "        anzsic93[\"Divisions\"],\n",
    "        left_on=\"subdivision_index\",\n",
    "        right_on=\"division_index\",\n",
    "        strategy=\"backward\",\n",
    "    )\n",
    "    .drop(cs.ends_with(\"_index\"))\n",
    "    .select(\n",
    "        cs.starts_with(\"division\"),\n",
    "        cs.starts_with(\"subdivision\"),\n",
    "        cs.starts_with(\"group\"),\n",
    "        cs.starts_with(\"class\"),\n",
    "    )\n",
    ")"
   ]
  },
  {
   "cell_type": "code",
   "execution_count": null,
   "metadata": {},
   "outputs": [],
   "source": [
    "anzsic93_combined.write_csv(r\"anzsic_1993.csv\", quote_style=\"always\")"
   ]
  },
  {
   "cell_type": "markdown",
   "metadata": {},
   "source": [
    "## Create `anzsic_2006.csv`"
   ]
  },
  {
   "cell_type": "code",
   "execution_count": null,
   "metadata": {},
   "outputs": [],
   "source": [
    "def read_anzsic_sheet(sheet_name, prefix):\n",
    "    df = (\n",
    "        pl.read_excel(\n",
    "            r\"data/1292.0.55.002_anzsic 2006 - codes and titles.xls\",\n",
    "            sheet_name=sheet_name,\n",
    "            drop_empty_rows=True,\n",
    "        )\n",
    "        .drop(cs.by_index(0))\n",
    "        .select(cs.by_index(-2, -1))\n",
    "        .with_columns(pl.all().fill_null(strategy=\"forward\"))\n",
    "        .drop_nulls()\n",
    "    )\n",
    "    df.columns = [f\"{prefix}_code\", f\"{prefix}_title\"]\n",
    "    df = df.unique(f\"{prefix}_title\", keep=\"first\", maintain_order=True).sort(\n",
    "        f\"{prefix}_code\"\n",
    "    )\n",
    "    if prefix != \"division\":\n",
    "        df = df.with_columns(\n",
    "            pl.col(f\"{prefix}_code\").str.replace(r\".$\", \"\").alias(f\"{prefix}_parent\")\n",
    "        )\n",
    "    return df\n",
    "\n",
    "\n",
    "anzsic06 = {\n",
    "    sheet_name: read_anzsic_sheet(sheet_name, prefix)\n",
    "    for sheet_name, prefix in zip(\n",
    "        [\"Divisions\", \"Groups\", \"Classes\"], [\"division\", \"group\", \"class\"]\n",
    "    )\n",
    "}\n",
    "\n",
    "anzsic06"
   ]
  },
  {
   "cell_type": "code",
   "execution_count": null,
   "metadata": {},
   "outputs": [],
   "source": [
    "# Create Subdivisions\n",
    "anzsic06[\"Subdivisions\"] = pl.read_excel(\n",
    "    r\"data/1292.0.55.002_anzsic 2006 - codes and titles.xls\",\n",
    "    sheet_name=\"Subdivisions\",\n",
    "    drop_empty_rows=True,\n",
    ").drop(cs.by_index(0))\n",
    "\n",
    "anzsic06[\"Subdivisions\"] = (\n",
    "    anzsic06[\"Subdivisions\"]\n",
    "    .with_columns(pl.all().fill_null(strategy=\"forward\"))\n",
    "    .drop_nulls()\n",
    ")\n",
    "\n",
    "anzsic06[\"Subdivisions\"].columns = [\n",
    "    \"division_code\",\n",
    "    \"subdivision_code\",\n",
    "    \"subdivision_title\",\n",
    "]\n",
    "\n",
    "anzsic06[\"Subdivisions\"] = (\n",
    "    anzsic06[\"Subdivisions\"]\n",
    "    .unique(\"subdivision_title\")\n",
    "    .sort([\"division_code\", \"subdivision_code\"])\n",
    ")\n",
    "\n",
    "anzsic06[\"Subdivisions\"]"
   ]
  },
  {
   "cell_type": "code",
   "execution_count": null,
   "metadata": {},
   "outputs": [],
   "source": [
    "anzsic06_combined = (\n",
    "    anzsic06[\"Divisions\"]\n",
    "    .join(anzsic06[\"Subdivisions\"], on=\"division_code\", how=\"full\")\n",
    "    .join(\n",
    "        anzsic06[\"Groups\"],\n",
    "        left_on=\"subdivision_code\",\n",
    "        right_on=\"group_parent\",\n",
    "        how=\"full\",\n",
    "    )\n",
    "    .join(\n",
    "        anzsic06[\"Classes\"], left_on=\"group_code\", right_on=\"class_parent\", how=\"full\"\n",
    "    )\n",
    "    .drop(cs.ends_with(\"parent\"), cs.ends_with(\"_right\"))\n",
    ")"
   ]
  },
  {
   "cell_type": "code",
   "execution_count": null,
   "metadata": {},
   "outputs": [],
   "source": [
    "anzsic06_combined.write_csv(\"anzsic_2006.csv\", quote_style=\"always\")"
   ]
  },
  {
   "cell_type": "markdown",
   "metadata": {},
   "source": [
    "# Create `anzsic_1993_to_2006_conversion_table.csv`"
   ]
  },
  {
   "cell_type": "code",
   "execution_count": null,
   "metadata": {},
   "outputs": [],
   "source": [
    "anzsic_mapping = (\n",
    "    pl.read_excel(\n",
    "        r\"data/1292.0.55.005_ anzsic 2006 - correspondence tables.xls\",\n",
    "        sheet_name=\"Table 1\",\n",
    "        drop_empty_rows=True,\n",
    "    )\n",
    "    .with_row_index()\n",
    "    .filter(~pl.col(\"index\").is_between(0, 2))\n",
    "    # .drop(~cs.by_index(0, 1, 2, 3))\n",
    ")\n",
    "anzsic_mapping.columns = [\n",
    "    \"index\",\n",
    "    \"anzsic93_parent\",\n",
    "    \"anzsic93_code\",\n",
    "    \"anzsic93_title\",\n",
    "    \"anzsic06_code\",\n",
    "    \"anzsic06_title\",\n",
    "]\n",
    "\n",
    "anzsic_mapping"
   ]
  },
  {
   "cell_type": "code",
   "execution_count": null,
   "metadata": {},
   "outputs": [],
   "source": [
    "anzsic_1993_classes = anzsic_mapping.filter(\n",
    "    pl.col(\"anzsic93_code\").str.len_chars() == 4\n",
    ").select(cs.by_name(\"index\", \"anzsic93_code\", \"anzsic93_title\"))\n",
    "anzsic_1993_classes"
   ]
  },
  {
   "cell_type": "code",
   "execution_count": null,
   "metadata": {},
   "outputs": [],
   "source": [
    "anzsic_2006_classes = anzsic_mapping.filter(\n",
    "    pl.col(\"anzsic06_code\").is_not_null()\n",
    ").select(\"index\", cs.starts_with(\"anzsic06\"))\n",
    "anzsic_2006_classes"
   ]
  },
  {
   "cell_type": "code",
   "execution_count": null,
   "metadata": {},
   "outputs": [],
   "source": [
    "anzsic_ct = (\n",
    "    anzsic_2006_classes.join_asof(anzsic_1993_classes, on=\"index\")\n",
    "    .drop(\"index\")\n",
    "    .select(cs.contains(\"93\"), cs.contains(\"06\"))\n",
    ")\n",
    "\n",
    "anzsic_ct.columns = [\n",
    "    \"anzsic_code_93\",\n",
    "    \"anzsic_name_93\",\n",
    "    \"anzsic_code_06\",\n",
    "    \"anzsic_name_06\",\n",
    "]\n",
    "\n",
    "anzsic_ct.write_csv(r\"anzsic_1993_to_2006_conversion_table.csv\", quote_style=\"always\")"
   ]
  }
 ],
 "metadata": {
  "kernelspec": {
   "display_name": "anzsic",
   "language": "python",
   "name": "python3"
  },
  "language_info": {
   "codemirror_mode": {
    "name": "ipython",
    "version": 3
   },
   "file_extension": ".py",
   "mimetype": "text/x-python",
   "name": "python",
   "nbconvert_exporter": "python",
   "pygments_lexer": "ipython3",
   "version": "3.12.7"
  }
 },
 "nbformat": 4,
 "nbformat_minor": 2
}
